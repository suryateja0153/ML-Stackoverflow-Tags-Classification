{
 "cells": [
  {
   "cell_type": "code",
   "execution_count": 1,
   "metadata": {},
   "outputs": [],
   "source": [
    "import pandas as pd\n",
    "\n",
    "df = pd.read_csv('C:/Users/surya/Downloads/Career/Python_Dev/Tags Classification Project/Tags.csv')"
   ]
  },
  {
   "cell_type": "code",
   "execution_count": 2,
   "metadata": {},
   "outputs": [],
   "source": [
    "import pandas as pd\n",
    "\n",
    "ds = pd.read_csv('C:/Users/surya/Downloads/Career/Python_Dev/Tags Classification Project/Questions.csv', nrows = 500, encoding='latin-1')"
   ]
  },
  {
   "cell_type": "code",
   "execution_count": 3,
   "metadata": {},
   "outputs": [],
   "source": [
    "dataset = pd.merge(df, ds, on=\"Id\")"
   ]
  },
  {
   "cell_type": "code",
   "execution_count": 4,
   "metadata": {},
   "outputs": [],
   "source": [
    "dataset_v1 = dataset.drop(['OwnerUserId', 'CreationDate', 'ClosedDate', 'Score'],axis=1)\n",
    "dataset_v1['Titles'] = dataset_v1['Title'].str.cat(dataset_v1['Body'], sep=\" \")\n",
    "dataset_v1 = dataset.drop(['OwnerUserId', 'CreationDate', 'ClosedDate', 'Score'],axis=1)"
   ]
  },
  {
   "cell_type": "code",
   "execution_count": 5,
   "metadata": {},
   "outputs": [],
   "source": [
    "dataset_v1['Titles'] = dataset_v1['Title'].str.cat(dataset_v1['Body'], sep=\" \")\n",
    "dataset_v1 = dataset_v1.drop(['Title', 'Body'],axis=1)"
   ]
  },
  {
   "cell_type": "code",
   "execution_count": 6,
   "metadata": {},
   "outputs": [],
   "source": [
    "import re\n",
    "dataset_v1['Titles'] = dataset_v1['Titles'].map(lambda Titles: re.sub(r'\\W+',' ', Titles))\n",
    "dataset_v1['Titles'] = dataset_v1['Titles'].str.lower()"
   ]
  },
  {
   "cell_type": "code",
   "execution_count": 7,
   "metadata": {},
   "outputs": [
    {
     "data": {
      "text/plain": [
       "0"
      ]
     },
     "execution_count": 7,
     "metadata": {},
     "output_type": "execute_result"
    }
   ],
   "source": [
    "dataset_v1['Titles'].isnull().sum()"
   ]
  },
  {
   "cell_type": "code",
   "execution_count": 8,
   "metadata": {},
   "outputs": [
    {
     "data": {
      "text/html": [
       "<div>\n",
       "<style scoped>\n",
       "    .dataframe tbody tr th:only-of-type {\n",
       "        vertical-align: middle;\n",
       "    }\n",
       "\n",
       "    .dataframe tbody tr th {\n",
       "        vertical-align: top;\n",
       "    }\n",
       "\n",
       "    .dataframe thead th {\n",
       "        text-align: right;\n",
       "    }\n",
       "</style>\n",
       "<table border=\"1\" class=\"dataframe\">\n",
       "  <thead>\n",
       "    <tr style=\"text-align: right;\">\n",
       "      <th></th>\n",
       "      <th>Id</th>\n",
       "      <th>Tag</th>\n",
       "      <th>Titles</th>\n",
       "    </tr>\n",
       "  </thead>\n",
       "  <tbody>\n",
       "    <tr>\n",
       "      <th>0</th>\n",
       "      <td>80</td>\n",
       "      <td>flex</td>\n",
       "      <td>sqlstatement execute multiple queries in one s...</td>\n",
       "    </tr>\n",
       "    <tr>\n",
       "      <th>1</th>\n",
       "      <td>80</td>\n",
       "      <td>actionscript-3</td>\n",
       "      <td>sqlstatement execute multiple queries in one s...</td>\n",
       "    </tr>\n",
       "    <tr>\n",
       "      <th>2</th>\n",
       "      <td>80</td>\n",
       "      <td>air</td>\n",
       "      <td>sqlstatement execute multiple queries in one s...</td>\n",
       "    </tr>\n",
       "    <tr>\n",
       "      <th>3</th>\n",
       "      <td>90</td>\n",
       "      <td>svn</td>\n",
       "      <td>good branching and merging tutorials for torto...</td>\n",
       "    </tr>\n",
       "    <tr>\n",
       "      <th>4</th>\n",
       "      <td>90</td>\n",
       "      <td>tortoisesvn</td>\n",
       "      <td>good branching and merging tutorials for torto...</td>\n",
       "    </tr>\n",
       "    <tr>\n",
       "      <th>...</th>\n",
       "      <td>...</td>\n",
       "      <td>...</td>\n",
       "      <td>...</td>\n",
       "    </tr>\n",
       "    <tr>\n",
       "      <th>1366</th>\n",
       "      <td>44660</td>\n",
       "      <td>regex</td>\n",
       "      <td>regex in vb6 p i need to write a program that ...</td>\n",
       "    </tr>\n",
       "    <tr>\n",
       "      <th>1367</th>\n",
       "      <td>44660</td>\n",
       "      <td>vb6</td>\n",
       "      <td>regex in vb6 p i need to write a program that ...</td>\n",
       "    </tr>\n",
       "    <tr>\n",
       "      <th>1368</th>\n",
       "      <td>44760</td>\n",
       "      <td>eclipse</td>\n",
       "      <td>eclipse share project by hand p what actually ...</td>\n",
       "    </tr>\n",
       "    <tr>\n",
       "      <th>1369</th>\n",
       "      <td>44760</td>\n",
       "      <td>svn</td>\n",
       "      <td>eclipse share project by hand p what actually ...</td>\n",
       "    </tr>\n",
       "    <tr>\n",
       "      <th>1370</th>\n",
       "      <td>44760</td>\n",
       "      <td>subclipse</td>\n",
       "      <td>eclipse share project by hand p what actually ...</td>\n",
       "    </tr>\n",
       "  </tbody>\n",
       "</table>\n",
       "<p>1370 rows × 3 columns</p>\n",
       "</div>"
      ],
      "text/plain": [
       "         Id             Tag                                             Titles\n",
       "0        80            flex  sqlstatement execute multiple queries in one s...\n",
       "1        80  actionscript-3  sqlstatement execute multiple queries in one s...\n",
       "2        80             air  sqlstatement execute multiple queries in one s...\n",
       "3        90             svn  good branching and merging tutorials for torto...\n",
       "4        90     tortoisesvn  good branching and merging tutorials for torto...\n",
       "...     ...             ...                                                ...\n",
       "1366  44660           regex  regex in vb6 p i need to write a program that ...\n",
       "1367  44660             vb6  regex in vb6 p i need to write a program that ...\n",
       "1368  44760         eclipse  eclipse share project by hand p what actually ...\n",
       "1369  44760             svn  eclipse share project by hand p what actually ...\n",
       "1370  44760       subclipse  eclipse share project by hand p what actually ...\n",
       "\n",
       "[1370 rows x 3 columns]"
      ]
     },
     "execution_count": 8,
     "metadata": {},
     "output_type": "execute_result"
    }
   ],
   "source": [
    "dataset_v1 = dataset_v1.dropna(subset=['Tag'])\n",
    "dataset_v1"
   ]
  },
  {
   "cell_type": "code",
   "execution_count": 9,
   "metadata": {},
   "outputs": [],
   "source": [
    "X = dataset_v1['Titles']\n",
    "y = dataset_v1['Tag']"
   ]
  },
  {
   "cell_type": "code",
   "execution_count": 10,
   "metadata": {},
   "outputs": [
    {
     "data": {
      "text/plain": [
       "(1370,)"
      ]
     },
     "execution_count": 10,
     "metadata": {},
     "output_type": "execute_result"
    }
   ],
   "source": [
    "X.shape"
   ]
  },
  {
   "cell_type": "code",
   "execution_count": 11,
   "metadata": {},
   "outputs": [
    {
     "data": {
      "text/plain": [
       "(1370,)"
      ]
     },
     "execution_count": 11,
     "metadata": {},
     "output_type": "execute_result"
    }
   ],
   "source": [
    "y.shape"
   ]
  },
  {
   "cell_type": "code",
   "execution_count": 12,
   "metadata": {},
   "outputs": [
    {
     "name": "stdout",
     "output_type": "stream",
     "text": [
      "(1027,)\n",
      "(343,)\n",
      "(1027,)\n",
      "(343,)\n"
     ]
    }
   ],
   "source": [
    "from sklearn.model_selection import train_test_split\n",
    "X_train, X_test, y_train, y_test = train_test_split(X, y, random_state=1)\n",
    "print(X_train.shape)\n",
    "print(X_test.shape)\n",
    "print(y_train.shape)\n",
    "print(y_test.shape)"
   ]
  },
  {
   "cell_type": "code",
   "execution_count": 13,
   "metadata": {},
   "outputs": [],
   "source": [
    "from sklearn.feature_extraction.text import CountVectorizer\n",
    "from sklearn.feature_extraction.text import TfidfVectorizer\n",
    "\n",
    "vect = CountVectorizer(stop_words='english',max_df=.3)"
   ]
  },
  {
   "cell_type": "code",
   "execution_count": 14,
   "metadata": {},
   "outputs": [
    {
     "data": {
      "text/plain": [
       "<1027x6009 sparse matrix of type '<class 'numpy.int64'>'\n",
       "\twith 45424 stored elements in Compressed Sparse Row format>"
      ]
     },
     "execution_count": 14,
     "metadata": {},
     "output_type": "execute_result"
    }
   ],
   "source": [
    "X_train_dtm = vect.fit_transform(X_train)\n",
    "X_train_dtm"
   ]
  },
  {
   "cell_type": "code",
   "execution_count": 15,
   "metadata": {},
   "outputs": [
    {
     "data": {
      "text/plain": [
       "False"
      ]
     },
     "execution_count": 15,
     "metadata": {},
     "output_type": "execute_result"
    }
   ],
   "source": [
    "dataset_v1.isnull().values.any()"
   ]
  },
  {
   "cell_type": "code",
   "execution_count": 16,
   "metadata": {},
   "outputs": [
    {
     "data": {
      "text/plain": [
       "<343x6009 sparse matrix of type '<class 'numpy.int64'>'\n",
       "\twith 14286 stored elements in Compressed Sparse Row format>"
      ]
     },
     "execution_count": 16,
     "metadata": {},
     "output_type": "execute_result"
    }
   ],
   "source": [
    "X_test_dtm = vect.transform(X_test)\n",
    "X_test_dtm"
   ]
  },
  {
   "cell_type": "code",
   "execution_count": 17,
   "metadata": {},
   "outputs": [
    {
     "data": {
      "text/plain": [
       "MultinomialNB()"
      ]
     },
     "execution_count": 17,
     "metadata": {},
     "output_type": "execute_result"
    }
   ],
   "source": [
    "from sklearn.naive_bayes import MultinomialNB\n",
    "nb = MultinomialNB()\n",
    "\n",
    "#fitting the model into train data \n",
    "nb.fit(X_train_dtm, y_train)"
   ]
  },
  {
   "cell_type": "code",
   "execution_count": 18,
   "metadata": {},
   "outputs": [],
   "source": [
    "#predicting the model on train and test data\n",
    "y_pred_class_test = nb.predict(X_test_dtm)\n",
    "y_pred_class_train = nb.predict(X_train_dtm)"
   ]
  },
  {
   "cell_type": "code",
   "execution_count": 19,
   "metadata": {},
   "outputs": [
    {
     "name": "stdout",
     "output_type": "stream",
     "text": [
      "0.02040816326530612\n",
      "0.44011684518013633\n"
     ]
    }
   ],
   "source": [
    "from sklearn import metrics\n",
    "print(metrics.accuracy_score(y_test, y_pred_class_test))\n",
    "print(metrics.accuracy_score(y_train, y_pred_class_train))"
   ]
  },
  {
   "cell_type": "code",
   "execution_count": 20,
   "metadata": {},
   "outputs": [
    {
     "data": {
      "text/plain": [
       "array(['asp.net', 'c++', 'faults', 'class-dbi', 'database', 'date',\n",
       "       'sql-server', 'c#', 'php', 'c', 'naming', 'sql', 'flex',\n",
       "       'networking', 'javascript', 'html', 'c++', '.net', 'objective-c',\n",
       "       'sql', '64bit', 'unit-testing', 'subdomain', 'database', 'asp.net',\n",
       "       'c#', '.net', 'sql', '.net', 'branch', 'c#', 'c++',\n",
       "       'visual-studio', '.net', 'c', 'msbuild', 'web-applications',\n",
       "       'java', 'directx', 'getter', 'database', 'svn', 'version-control',\n",
       "       'session', '64bit', 'ffmpeg', 'sql-server', 'tfs',\n",
       "       'dynamic-languages', 'concurrency', 'plugins', 'database',\n",
       "       '.net-2.0', '.net', 'comparison', 'c++', 'c#', 'graphics',\n",
       "       '.net-2.0', 'networking', 'unit-testing', 'c#', 'oledb', 'dom',\n",
       "       'c#', 'networking', 'vb.net', 'sql', 'pivot', 'javascript',\n",
       "       'asp.net', '.net', 'editor', 'c++', '.net', 'c', 'visual-studio',\n",
       "       'c', 'c++', 'com', 'networking', '.net', 'sql-server', '.net',\n",
       "       'performance', 'sql-server-2005', 'php', 'language-agnostic',\n",
       "       'plugins', 'cmdlets', 'jquery', '.net', '.net', 'c#',\n",
       "       'concurrency', '.net', 'sql-server', 'db2-luw', 'email', 'sockets',\n",
       "       'testing', '.net', 'ruby', 'css', 'asp.net', 'osx', 'objective-c',\n",
       "       'html', '64bit', 'linux', 'version-control', 'testing', 'c#',\n",
       "       'coding-style', 'maps', '.net', 'error-handling',\n",
       "       'sql-server-2005', 'monitoring', 'security', 'asp.net-mvc',\n",
       "       'authentication', 'glut', 'visual-studio', 'dynamic-languages',\n",
       "       'winapi', 'c#', '.net', 'continuous-integration', '.net',\n",
       "       'sql-server', 'windows', 'windows', 'applicationpage', '.net-3.5',\n",
       "       'c', 'algorithm', 'xml', 'asp.net', 'regex', 'c#', 'c#', '.net',\n",
       "       'python', 'asp.net', 'c#', 'requirements', 'javascript',\n",
       "       'mysql-management', 'java', 'postgresql', 'c#', 'arrays',\n",
       "       'javascript', 'objective-c', 'css', 'php', 'c#', 'winforms',\n",
       "       '.net', 'sql', 'winforms', 'subdomain', '.net', '.htaccess',\n",
       "       '.net', 'ruby-on-rails', 'sql', '.net', 'wcf', 'architecture',\n",
       "       'python', 'language-agnostic', '.net', 'continuous-integration',\n",
       "       'sql', 'java', 'sql-server', 'linq', 'naming', 'class-design',\n",
       "       'oledb', 'sql-server', 'audio', 'c', 'unit-testing', 'sql', 'osx',\n",
       "       'debugging', 'asp.net', 'osx', 'asp.net', 'compiled',\n",
       "       'language-agnostic', 'c#', 'c#', 'database', 'sql', 'sql', '.net',\n",
       "       '.net', 'firewall', 'subdomain', 'data-structures', 'winforms',\n",
       "       'wpf', 'asp.net', 'sql-server', 'timespan', 'c#', 'msbuild', 'c#',\n",
       "       'assembly', 'asp.net', 'character-encoding', 'sql', '.net',\n",
       "       'winforms', 'python', 'faults', 'sql-server', 'sql', 'dom',\n",
       "       'sql-server', 'windows', 'ruby-on-rails', 'java', 'asp.net',\n",
       "       '.net', 'javascript', 'c#', 'sql', '.net', 'sql-server', 'testing',\n",
       "       'version-control', 'c', 'php', 'eclipse', 'c#', 'c#',\n",
       "       'project-management', 'c++-cli', 'error-handling', '.net', 'c#',\n",
       "       'testing', 'c#', 'editor', 'c#', 'sql', 'performance', 'sql',\n",
       "       'browser', '.net', 'sql-server', '.net', '.net',\n",
       "       'character-encoding', 'osx', '.net', 'networking', 'sql-server',\n",
       "       'sql', 'windows', 'sql', 'c#', 'installation', 'windows', '.net',\n",
       "       '.net', 'getter', 'pagination', 'scheme', 'php', 'ruby-on-rails',\n",
       "       'java', 'performance', 'jquery', 'c#', 'flex', 'sockets',\n",
       "       'database', 'project-management', 'sql', 'ruby', 'branch', '.net',\n",
       "       'db2-luw', 'c#', 'c#', 'ssis', '.net', 'qt', 'javascript', 'java',\n",
       "       '.net', 'c#', 'php', 'applicationpage', '64bit', 'asp.net', '.net',\n",
       "       'executable', 'asp.net', '.net', 'pivot', 'java', 'graphics', 'qt',\n",
       "       'asp.net', '2d', 'osx', 'java', 'mysql', 'sql', 'unit-testing',\n",
       "       '.net', 'unit-testing', 'open-source', 'java', '.net', 'sql',\n",
       "       'email', '.net', 'sql-server', 'xml-signature', 'windows',\n",
       "       'database', 'java', '.net', '.net', 'winforms', '.net', 'storage',\n",
       "       'asp.net', 'windows-vista', '.net', 'file-locking', '.net',\n",
       "       'sql-server-2005', 'linq', 'plugins'], dtype='<U25')"
      ]
     },
     "execution_count": 20,
     "metadata": {},
     "output_type": "execute_result"
    }
   ],
   "source": [
    "nb.predict(X_test_dtm)"
   ]
  },
  {
   "cell_type": "code",
   "execution_count": null,
   "metadata": {},
   "outputs": [],
   "source": []
  }
 ],
 "metadata": {
  "kernelspec": {
   "display_name": "Python 3",
   "language": "python",
   "name": "python3"
  },
  "language_info": {
   "codemirror_mode": {
    "name": "ipython",
    "version": 3
   },
   "file_extension": ".py",
   "mimetype": "text/x-python",
   "name": "python",
   "nbconvert_exporter": "python",
   "pygments_lexer": "ipython3",
   "version": "3.8.3"
  }
 },
 "nbformat": 4,
 "nbformat_minor": 4
}
